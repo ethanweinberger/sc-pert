{
 "cells": [
  {
   "cell_type": "code",
   "execution_count": 1,
   "id": "902dfc4a",
   "metadata": {},
   "outputs": [],
   "source": [
    "import numpy as np\n",
    "import pandas as pd\n",
    "import scanpy as sc\n",
    "import anndata as ad\n",
    "import sklearn as sk\n",
    "\n",
    "from sklearn.linear_model import LogisticRegression\n",
    "from sklearn.metrics import classification_report"
   ]
  },
  {
   "cell_type": "markdown",
   "id": "a5d9fb6e",
   "metadata": {},
   "source": [
    "Load every available dataset."
   ]
  },
  {
   "cell_type": "code",
   "execution_count": 3,
   "id": "d94b8e15",
   "metadata": {},
   "outputs": [
    {
     "name": "stdout",
     "output_type": "stream",
     "text": [
      "CPU times: user 1min 58s, sys: 23.7 s, total: 2min 22s\n",
      "Wall time: 2min 23s\n"
     ]
    }
   ],
   "source": [
    "%%time\n",
    "adatas = []\n",
    "for i, row in pd.read_csv('personal.csv').iterrows():\n",
    "    try:\n",
    "        adata = sc.read(f'datasets/{row.Author}_{row.Year}.h5ad')\n",
    "        adata.obs['dataset'] = f'{row.Author}_{row.Year}'\n",
    "        adatas.append(adata)\n",
    "    except FileNotFoundError:\n",
    "        pass\n",
    "    \n",
    "adata = ad.concat(adatas)"
   ]
  },
  {
   "cell_type": "markdown",
   "id": "ad4a0817",
   "metadata": {},
   "source": [
    "Which perturbations exist across multiple datasets?"
   ]
  },
  {
   "cell_type": "code",
   "execution_count": 4,
   "id": "d99119a5",
   "metadata": {},
   "outputs": [
    {
     "data": {
      "text/html": [
       "<div>\n",
       "<style scoped>\n",
       "    .dataframe tbody tr th:only-of-type {\n",
       "        vertical-align: middle;\n",
       "    }\n",
       "\n",
       "    .dataframe tbody tr th {\n",
       "        vertical-align: top;\n",
       "    }\n",
       "\n",
       "    .dataframe thead th {\n",
       "        text-align: right;\n",
       "    }\n",
       "</style>\n",
       "<table border=\"1\" class=\"dataframe\">\n",
       "  <thead>\n",
       "    <tr style=\"text-align: right;\">\n",
       "      <th>dataset</th>\n",
       "      <th>Dixit_2016</th>\n",
       "      <th>Frangieh_2021</th>\n",
       "      <th>Norman_2019</th>\n",
       "      <th>Srivatsan_2019</th>\n",
       "    </tr>\n",
       "    <tr>\n",
       "      <th>perturbation_name</th>\n",
       "      <th></th>\n",
       "      <th></th>\n",
       "      <th></th>\n",
       "      <th></th>\n",
       "    </tr>\n",
       "  </thead>\n",
       "  <tbody>\n",
       "    <tr>\n",
       "      <th>EGR1</th>\n",
       "      <td>6181</td>\n",
       "      <td>0</td>\n",
       "      <td>321</td>\n",
       "      <td>0</td>\n",
       "    </tr>\n",
       "    <tr>\n",
       "      <th>IRF1</th>\n",
       "      <td>3837</td>\n",
       "      <td>0</td>\n",
       "      <td>427</td>\n",
       "      <td>0</td>\n",
       "    </tr>\n",
       "    <tr>\n",
       "      <th>NCL</th>\n",
       "      <td>0</td>\n",
       "      <td>121</td>\n",
       "      <td>237</td>\n",
       "      <td>0</td>\n",
       "    </tr>\n",
       "    <tr>\n",
       "      <th>SET</th>\n",
       "      <td>0</td>\n",
       "      <td>415</td>\n",
       "      <td>985</td>\n",
       "      <td>0</td>\n",
       "    </tr>\n",
       "  </tbody>\n",
       "</table>\n",
       "</div>"
      ],
      "text/plain": [
       "dataset            Dixit_2016  Frangieh_2021  Norman_2019  Srivatsan_2019\n",
       "perturbation_name                                                        \n",
       "EGR1                     6181              0          321               0\n",
       "IRF1                     3837              0          427               0\n",
       "NCL                         0            121          237               0\n",
       "SET                         0            415          985               0"
      ]
     },
     "execution_count": 4,
     "metadata": {},
     "output_type": "execute_result"
    }
   ],
   "source": [
    "df = pd.crosstab(adata.obs.perturbation_name, adata.obs.dataset)\n",
    "df = df[np.count_nonzero(df, axis=1) > 1]\n",
    "df"
   ]
  },
  {
   "cell_type": "markdown",
   "id": "732b2714",
   "metadata": {},
   "source": [
    "Let's train the simplest model we can - a sgRNA classifier. From the weights of the model, you could extract common features of the sgRNA's effect."
   ]
  },
  {
   "cell_type": "code",
   "execution_count": 5,
   "id": "ddebf146",
   "metadata": {},
   "outputs": [
    {
     "data": {
      "text/plain": [
       "View of AnnData object with n_obs × n_vars = 12524 × 12738\n",
       "    obs: 'n_genes', 'leiden', 'perturbation_name', 'perturbation_type', 'perturbation_value', 'perturbation_unit', 'dataset'\n",
       "    obsm: 'X_pca', 'X_umap'"
      ]
     },
     "execution_count": 5,
     "metadata": {},
     "output_type": "execute_result"
    }
   ],
   "source": [
    "subset = adata[adata.obs.perturbation_name.isin(df.index)]\n",
    "subset"
   ]
  },
  {
   "cell_type": "markdown",
   "id": "dd425d97",
   "metadata": {},
   "source": [
    "Generate a random train-test split."
   ]
  },
  {
   "cell_type": "code",
   "execution_count": 6,
   "id": "d146a9cb",
   "metadata": {},
   "outputs": [],
   "source": [
    "from sklearn.model_selection import train_test_split\n",
    "test_idx, train_idx = train_test_split(subset.obs.index, test_size=.2)\n",
    "\n",
    "test = subset[test_idx]\n",
    "train = subset[train_idx]"
   ]
  },
  {
   "cell_type": "markdown",
   "id": "2828b541",
   "metadata": {},
   "source": [
    "Train a model."
   ]
  },
  {
   "cell_type": "code",
   "execution_count": 7,
   "id": "ab03f019",
   "metadata": {},
   "outputs": [
    {
     "data": {
      "text/plain": [
       "LogisticRegression()"
      ]
     },
     "execution_count": 7,
     "metadata": {},
     "output_type": "execute_result"
    }
   ],
   "source": [
    "clf = sk.linear_model.LogisticRegression()\n",
    "clf.fit(train.X, train.obs.perturbation_name.values)"
   ]
  },
  {
   "cell_type": "markdown",
   "id": "69edf707",
   "metadata": {},
   "source": [
    "Evaluate on training data."
   ]
  },
  {
   "cell_type": "code",
   "execution_count": 8,
   "id": "69394a50",
   "metadata": {},
   "outputs": [
    {
     "data": {
      "text/plain": [
       "1.0"
      ]
     },
     "execution_count": 8,
     "metadata": {},
     "output_type": "execute_result"
    }
   ],
   "source": [
    "clf.score(train.X, train.obs.perturbation_name.values)"
   ]
  },
  {
   "cell_type": "markdown",
   "id": "d83f3f83",
   "metadata": {},
   "source": [
    "Evaluate on test data."
   ]
  },
  {
   "cell_type": "code",
   "execution_count": 9,
   "id": "4a34e66c",
   "metadata": {},
   "outputs": [
    {
     "data": {
      "text/plain": [
       "0.5824932628006787"
      ]
     },
     "execution_count": 9,
     "metadata": {},
     "output_type": "execute_result"
    }
   ],
   "source": [
    "clf.score(test.X, test.obs.perturbation_name.values)"
   ]
  },
  {
   "cell_type": "code",
   "execution_count": 10,
   "id": "9c486438",
   "metadata": {},
   "outputs": [
    {
     "name": "stdout",
     "output_type": "stream",
     "text": [
      "              precision    recall  f1-score   support\n",
      "\n",
      "        EGR1       0.62      0.66      0.64      5246\n",
      "        IRF1       0.43      0.38      0.40      3368\n",
      "         NCL       0.47      0.22      0.30       290\n",
      "         SET       0.79      0.91      0.84      1115\n",
      "\n",
      "    accuracy                           0.58     10019\n",
      "   macro avg       0.58      0.54      0.55     10019\n",
      "weighted avg       0.57      0.58      0.57     10019\n",
      "\n"
     ]
    }
   ],
   "source": [
    "print(sk.metrics.classification_report(\n",
    "    test.obs.perturbation_name.values,\n",
    "    clf.predict(test.X)\n",
    "))"
   ]
  },
  {
   "cell_type": "markdown",
   "id": "62bd2adb",
   "metadata": {},
   "source": [
    "Not bad for a 4-class classification problem.\n",
    "\n",
    "Much harder case: let's try leaving out one Norman et al. 2019 and only learn the treatments from the other two datasets. We've performed no batch correction between datasets so we would expect this to be extremely difficult for a linear model."
   ]
  },
  {
   "cell_type": "code",
   "execution_count": 11,
   "id": "ae5bd36a",
   "metadata": {},
   "outputs": [],
   "source": [
    "test = subset[subset.obs.dataset == 'Norman_2019']\n",
    "train = subset[subset.obs.dataset != 'Norman_2019']"
   ]
  },
  {
   "cell_type": "code",
   "execution_count": 12,
   "id": "28fcb5b3",
   "metadata": {},
   "outputs": [
    {
     "data": {
      "text/plain": [
       "LogisticRegression()"
      ]
     },
     "execution_count": 12,
     "metadata": {},
     "output_type": "execute_result"
    }
   ],
   "source": [
    "clf = sk.linear_model.LogisticRegression()\n",
    "clf.fit(train.X, train.obs.perturbation_name.values)"
   ]
  },
  {
   "cell_type": "code",
   "execution_count": 13,
   "id": "554559ea",
   "metadata": {},
   "outputs": [
    {
     "name": "stdout",
     "output_type": "stream",
     "text": [
      "              precision    recall  f1-score   support\n",
      "\n",
      "        EGR1       0.14      0.46      0.22       321\n",
      "        IRF1       0.17      0.37      0.23       427\n",
      "         NCL       0.00      0.00      0.00       237\n",
      "         SET       0.00      0.00      0.00       985\n",
      "\n",
      "    accuracy                           0.16      1970\n",
      "   macro avg       0.08      0.21      0.11      1970\n",
      "weighted avg       0.06      0.16      0.09      1970\n",
      "\n"
     ]
    }
   ],
   "source": [
    "print(sk.metrics.classification_report(\n",
    "    test.obs.perturbation_name.values,\n",
    "    clf.predict(test.X)\n",
    "))"
   ]
  },
  {
   "cell_type": "markdown",
   "id": "37d47150",
   "metadata": {},
   "source": [
    "Indeed, we see that the linear model is not at all predictive due to the batch effect across datasets."
   ]
  }
 ],
 "metadata": {
  "kernelspec": {
   "display_name": "Python 3 (ipykernel)",
   "language": "python",
   "name": "python3"
  },
  "language_info": {
   "codemirror_mode": {
    "name": "ipython",
    "version": 3
   },
   "file_extension": ".py",
   "mimetype": "text/x-python",
   "name": "python",
   "nbconvert_exporter": "python",
   "pygments_lexer": "ipython3",
   "version": "3.7.0"
  }
 },
 "nbformat": 4,
 "nbformat_minor": 5
}
