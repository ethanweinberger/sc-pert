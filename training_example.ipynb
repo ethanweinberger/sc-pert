{
 "cells": [
  {
   "cell_type": "code",
   "execution_count": 1,
   "id": "902dfc4a",
   "metadata": {},
   "outputs": [],
   "source": [
    "import numpy as np\n",
    "import pandas as pd\n",
    "import scanpy as sc\n",
    "import anndata as ad\n",
    "\n",
    "from sklearn.linear_model import LogisticRegression\n",
    "from sklearn.metrics import classification_report"
   ]
  },
  {
   "cell_type": "markdown",
   "id": "a5d9fb6e",
   "metadata": {},
   "source": [
    "Load every available dataset."
   ]
  },
  {
   "cell_type": "code",
   "execution_count": 3,
   "id": "d94b8e15",
   "metadata": {},
   "outputs": [
    {
     "name": "stdout",
     "output_type": "stream",
     "text": [
      "CPU times: user 1min 37s, sys: 7.85 s, total: 1min 45s\n",
      "Wall time: 1min 47s\n"
     ]
    }
   ],
   "source": [
    "%%time\n",
    "adatas = []\n",
    "for i, row in pd.read_csv('personal.csv').iterrows():\n",
    "    try:\n",
    "        adata = sc.read(f'datasets/{row.Author}_{row.Year}.h5ad')\n",
    "        adata.obs['dataset'] = f'{row.Author}_{row.Year}'\n",
    "        adatas.append(adata)\n",
    "    except FileNotFoundError:\n",
    "        pass"
   ]
  },
  {
   "cell_type": "code",
   "execution_count": 4,
   "id": "e3f4a6f4",
   "metadata": {},
   "outputs": [
    {
     "name": "stdout",
     "output_type": "stream",
     "text": [
      "CPU times: user 22.5 s, sys: 1min 14s, total: 1min 36s\n",
      "Wall time: 1min 37s\n"
     ]
    }
   ],
   "source": [
    "%%time\n",
    "adata = ad.concat(adatas)"
   ]
  },
  {
   "cell_type": "markdown",
   "id": "ad4a0817",
   "metadata": {},
   "source": [
    "Take the guide RNAs that exist across multiple datasets."
   ]
  },
  {
   "cell_type": "code",
   "execution_count": 38,
   "id": "d99119a5",
   "metadata": {},
   "outputs": [
    {
     "data": {
      "text/html": [
       "<div>\n",
       "<style scoped>\n",
       "    .dataframe tbody tr th:only-of-type {\n",
       "        vertical-align: middle;\n",
       "    }\n",
       "\n",
       "    .dataframe tbody tr th {\n",
       "        vertical-align: top;\n",
       "    }\n",
       "\n",
       "    .dataframe thead th {\n",
       "        text-align: right;\n",
       "    }\n",
       "</style>\n",
       "<table border=\"1\" class=\"dataframe\">\n",
       "  <thead>\n",
       "    <tr style=\"text-align: right;\">\n",
       "      <th>dataset</th>\n",
       "      <th>Dixit_2016</th>\n",
       "      <th>Frangieh_2021</th>\n",
       "      <th>Norman_2019</th>\n",
       "      <th>Srivatsan_2019</th>\n",
       "    </tr>\n",
       "    <tr>\n",
       "      <th>perturbation_name</th>\n",
       "      <th></th>\n",
       "      <th></th>\n",
       "      <th></th>\n",
       "      <th></th>\n",
       "    </tr>\n",
       "  </thead>\n",
       "  <tbody>\n",
       "    <tr>\n",
       "      <th>EGR1</th>\n",
       "      <td>6181</td>\n",
       "      <td>0</td>\n",
       "      <td>321</td>\n",
       "      <td>0</td>\n",
       "    </tr>\n",
       "    <tr>\n",
       "      <th>IRF1</th>\n",
       "      <td>3837</td>\n",
       "      <td>0</td>\n",
       "      <td>427</td>\n",
       "      <td>0</td>\n",
       "    </tr>\n",
       "    <tr>\n",
       "      <th>NCL</th>\n",
       "      <td>0</td>\n",
       "      <td>121</td>\n",
       "      <td>237</td>\n",
       "      <td>0</td>\n",
       "    </tr>\n",
       "    <tr>\n",
       "      <th>SET</th>\n",
       "      <td>0</td>\n",
       "      <td>415</td>\n",
       "      <td>985</td>\n",
       "      <td>0</td>\n",
       "    </tr>\n",
       "  </tbody>\n",
       "</table>\n",
       "</div>"
      ],
      "text/plain": [
       "dataset            Dixit_2016  Frangieh_2021  Norman_2019  Srivatsan_2019\n",
       "perturbation_name                                                        \n",
       "EGR1                     6181              0          321               0\n",
       "IRF1                     3837              0          427               0\n",
       "NCL                         0            121          237               0\n",
       "SET                         0            415          985               0"
      ]
     },
     "execution_count": 38,
     "metadata": {},
     "output_type": "execute_result"
    }
   ],
   "source": [
    "df = pd.crosstab(adata.obs.perturbation_name, adata.obs.dataset).T\n",
    "df = df.T[np.count_nonzero(df, axis=0) > 1]\n",
    "df"
   ]
  },
  {
   "cell_type": "code",
   "execution_count": 14,
   "id": "ddebf146",
   "metadata": {},
   "outputs": [
    {
     "data": {
      "text/plain": [
       "View of AnnData object with n_obs × n_vars = 12524 × 12738\n",
       "    obs: 'n_genes', 'leiden', 'perturbation_name', 'perturbation_type', 'perturbation_value', 'perturbation_unit', 'dataset'\n",
       "    obsm: 'X_pca', 'X_umap'"
      ]
     },
     "execution_count": 14,
     "metadata": {},
     "output_type": "execute_result"
    }
   ],
   "source": [
    "subset = adata[adata.obs.perturbation_name.isin(df.index)]\n",
    "subset"
   ]
  },
  {
   "cell_type": "markdown",
   "id": "dd425d97",
   "metadata": {},
   "source": [
    "Generate random train-test split."
   ]
  },
  {
   "cell_type": "code",
   "execution_count": 27,
   "id": "d146a9cb",
   "metadata": {},
   "outputs": [],
   "source": [
    "test_idx = sc.pp.subsample(subset, .2, copy=True).obs.index\n",
    "train_idx = list(set(subset.obs.index) - set(test_idx))\n",
    "\n",
    "test = subset[test_idx]\n",
    "train = subset[train_idx]"
   ]
  },
  {
   "cell_type": "markdown",
   "id": "2828b541",
   "metadata": {},
   "source": [
    "Train a model."
   ]
  },
  {
   "cell_type": "code",
   "execution_count": 28,
   "id": "ab03f019",
   "metadata": {},
   "outputs": [
    {
     "name": "stderr",
     "output_type": "stream",
     "text": [
      "/home/icb/yuge.ji/miniconda3/envs/py37/lib/python3.7/site-packages/sklearn/linear_model/_logistic.py:818: ConvergenceWarning: lbfgs failed to converge (status=1):\n",
      "STOP: TOTAL NO. of ITERATIONS REACHED LIMIT.\n",
      "\n",
      "Increase the number of iterations (max_iter) or scale the data as shown in:\n",
      "    https://scikit-learn.org/stable/modules/preprocessing.html\n",
      "Please also refer to the documentation for alternative solver options:\n",
      "    https://scikit-learn.org/stable/modules/linear_model.html#logistic-regression\n",
      "  extra_warning_msg=_LOGISTIC_SOLVER_CONVERGENCE_MSG,\n"
     ]
    },
    {
     "data": {
      "text/plain": [
       "LogisticRegression()"
      ]
     },
     "execution_count": 28,
     "metadata": {},
     "output_type": "execute_result"
    }
   ],
   "source": [
    "clf = LogisticRegression()\n",
    "clf.fit(train.X, train.obs.perturbation_name.values)"
   ]
  },
  {
   "cell_type": "code",
   "execution_count": 30,
   "id": "69394a50",
   "metadata": {},
   "outputs": [
    {
     "data": {
      "text/plain": [
       "0.9612774451097804"
      ]
     },
     "execution_count": 30,
     "metadata": {},
     "output_type": "execute_result"
    }
   ],
   "source": [
    "clf.score(train.X, train.obs.perturbation_name.values)"
   ]
  },
  {
   "cell_type": "code",
   "execution_count": 29,
   "id": "4a34e66c",
   "metadata": {},
   "outputs": [
    {
     "data": {
      "text/plain": [
       "0.5938498402555911"
      ]
     },
     "execution_count": 29,
     "metadata": {},
     "output_type": "execute_result"
    }
   ],
   "source": [
    "clf.score(test.X, test.obs.perturbation_name.values)"
   ]
  },
  {
   "cell_type": "code",
   "execution_count": 33,
   "id": "9c486438",
   "metadata": {},
   "outputs": [
    {
     "name": "stdout",
     "output_type": "stream",
     "text": [
      "              precision    recall  f1-score   support\n",
      "\n",
      "        EGR1       0.63      0.64      0.64      1329\n",
      "        IRF1       0.45      0.45      0.45       846\n",
      "         NCL       0.59      0.36      0.45        75\n",
      "         SET       0.84      0.92      0.88       254\n",
      "\n",
      "    accuracy                           0.59      2504\n",
      "   macro avg       0.63      0.59      0.60      2504\n",
      "weighted avg       0.59      0.59      0.59      2504\n",
      "\n"
     ]
    }
   ],
   "source": [
    "print(classification_report(test.obs.perturbation_name.values, clf.predict(test.X)))"
   ]
  },
  {
   "cell_type": "markdown",
   "id": "62bd2adb",
   "metadata": {},
   "source": [
    "Let's try leaving out one Norman et al. 2019 and only learn the treatments from the other two datasets."
   ]
  },
  {
   "cell_type": "code",
   "execution_count": 34,
   "id": "ae5bd36a",
   "metadata": {},
   "outputs": [],
   "source": [
    "test = subset[subset.obs.dataset == 'Norman_2019']\n",
    "train = subset[subset.obs.dataset != 'Norman_2019']"
   ]
  },
  {
   "cell_type": "code",
   "execution_count": 35,
   "id": "28fcb5b3",
   "metadata": {},
   "outputs": [
    {
     "name": "stderr",
     "output_type": "stream",
     "text": [
      "/home/icb/yuge.ji/miniconda3/envs/py37/lib/python3.7/site-packages/sklearn/linear_model/_logistic.py:818: ConvergenceWarning: lbfgs failed to converge (status=1):\n",
      "STOP: TOTAL NO. of ITERATIONS REACHED LIMIT.\n",
      "\n",
      "Increase the number of iterations (max_iter) or scale the data as shown in:\n",
      "    https://scikit-learn.org/stable/modules/preprocessing.html\n",
      "Please also refer to the documentation for alternative solver options:\n",
      "    https://scikit-learn.org/stable/modules/linear_model.html#logistic-regression\n",
      "  extra_warning_msg=_LOGISTIC_SOLVER_CONVERGENCE_MSG,\n"
     ]
    },
    {
     "data": {
      "text/plain": [
       "LogisticRegression()"
      ]
     },
     "execution_count": 35,
     "metadata": {},
     "output_type": "execute_result"
    }
   ],
   "source": [
    "clf = LogisticRegression()\n",
    "clf.fit(train.X, train.obs.perturbation_name.values)"
   ]
  },
  {
   "cell_type": "code",
   "execution_count": 36,
   "id": "554559ea",
   "metadata": {},
   "outputs": [
    {
     "name": "stdout",
     "output_type": "stream",
     "text": [
      "              precision    recall  f1-score   support\n",
      "\n",
      "        EGR1       0.14      0.46      0.22       321\n",
      "        IRF1       0.17      0.37      0.23       427\n",
      "         NCL       0.00      0.00      0.00       237\n",
      "         SET       0.00      0.00      0.00       985\n",
      "\n",
      "    accuracy                           0.16      1970\n",
      "   macro avg       0.08      0.21      0.11      1970\n",
      "weighted avg       0.06      0.16      0.09      1970\n",
      "\n"
     ]
    },
    {
     "name": "stderr",
     "output_type": "stream",
     "text": [
      "/home/icb/yuge.ji/miniconda3/envs/py37/lib/python3.7/site-packages/sklearn/metrics/_classification.py:1318: UndefinedMetricWarning: Precision and F-score are ill-defined and being set to 0.0 in labels with no predicted samples. Use `zero_division` parameter to control this behavior.\n",
      "  _warn_prf(average, modifier, msg_start, len(result))\n",
      "/home/icb/yuge.ji/miniconda3/envs/py37/lib/python3.7/site-packages/sklearn/metrics/_classification.py:1318: UndefinedMetricWarning: Precision and F-score are ill-defined and being set to 0.0 in labels with no predicted samples. Use `zero_division` parameter to control this behavior.\n",
      "  _warn_prf(average, modifier, msg_start, len(result))\n",
      "/home/icb/yuge.ji/miniconda3/envs/py37/lib/python3.7/site-packages/sklearn/metrics/_classification.py:1318: UndefinedMetricWarning: Precision and F-score are ill-defined and being set to 0.0 in labels with no predicted samples. Use `zero_division` parameter to control this behavior.\n",
      "  _warn_prf(average, modifier, msg_start, len(result))\n"
     ]
    }
   ],
   "source": [
    "print(classification_report(test.obs.perturbation_name.values, clf.predict(test.X)))"
   ]
  },
  {
   "cell_type": "markdown",
   "id": "37d47150",
   "metadata": {},
   "source": [
    "Looks like basicaly information can transfer from Dixit to Norman without batch correction, but not from Frangieh."
   ]
  }
 ],
 "metadata": {
  "kernelspec": {
   "display_name": "Python 3 (ipykernel)",
   "language": "python",
   "name": "python3"
  },
  "language_info": {
   "codemirror_mode": {
    "name": "ipython",
    "version": 3
   },
   "file_extension": ".py",
   "mimetype": "text/x-python",
   "name": "python",
   "nbconvert_exporter": "python",
   "pygments_lexer": "ipython3",
   "version": "3.7.0"
  }
 },
 "nbformat": 4,
 "nbformat_minor": 5
}
