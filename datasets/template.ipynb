{
 "cells": [
  {
   "cell_type": "markdown",
   "id": "0f8d8db0",
   "metadata": {},
   "source": [
    "Accession: [link]"
   ]
  },
  {
   "cell_type": "code",
   "execution_count": null,
   "id": "e9234341",
   "metadata": {},
   "outputs": [],
   "source": [
    "%load block0_load.py"
   ]
  },
  {
   "cell_type": "code",
   "execution_count": null,
   "id": "904d339f",
   "metadata": {},
   "outputs": [],
   "source": [
    "%load block1_init.py"
   ]
  },
  {
   "cell_type": "code",
   "execution_count": 5,
   "id": "72112f55",
   "metadata": {},
   "outputs": [],
   "source": [
    "adata = adata[adata.obs.n_genes_by_counts < 8000, :]  # edit\n",
    "adata = adata[adata.obs.pct_counts_mt < 50]"
   ]
  },
  {
   "cell_type": "markdown",
   "id": "2eaff683",
   "metadata": {},
   "source": [
    "Add additional labels, normalize and add plotting variables."
   ]
  },
  {
   "cell_type": "code",
   "execution_count": null,
   "id": "aff9cff1",
   "metadata": {},
   "outputs": [],
   "source": [
    "%load block2_process.py"
   ]
  },
  {
   "cell_type": "markdown",
   "id": "df9dc5f9",
   "metadata": {},
   "source": [
    "Save."
   ]
  },
  {
   "cell_type": "code",
   "execution_count": null,
   "id": "269f5603",
   "metadata": {},
   "outputs": [],
   "source": [
    "sc.write(f'{author_year}.h5ad', adata, compression='gzip')\n",
    "adata"
   ]
  },
  {
   "cell_type": "markdown",
   "id": "3706b6a6",
   "metadata": {},
   "source": [
    "Standardized perturbation labels and save again."
   ]
  },
  {
   "cell_type": "code",
   "execution_count": null,
   "id": "1d741e81",
   "metadata": {},
   "outputs": [],
   "source": [
    "adata = sc.read(f'{author_year}.h5ad')"
   ]
  },
  {
   "cell_type": "code",
   "execution_count": null,
   "id": "0d070b9b",
   "metadata": {},
   "outputs": [],
   "source": [
    "%load block3_standardize.py"
   ]
  },
  {
   "cell_type": "code",
   "execution_count": null,
   "id": "c9b0b666",
   "metadata": {},
   "outputs": [
    {
     "name": "stderr",
     "output_type": "stream",
     "text": [
      "/home/icb/yuge.ji/miniconda3/envs/py37/lib/python3.7/site-packages/anndata/_core/anndata.py:1220: FutureWarning: The `inplace` parameter in pandas.Categorical.reorder_categories is deprecated and will be removed in a future version. Reordering categories will always return a new Categorical object.\n",
      "  c.reorder_categories(natsorted(c.categories), inplace=True)\n",
      "... storing 'perturbation_name' as categorical\n",
      "/home/icb/yuge.ji/miniconda3/envs/py37/lib/python3.7/site-packages/anndata/_core/anndata.py:1220: FutureWarning: The `inplace` parameter in pandas.Categorical.reorder_categories is deprecated and will be removed in a future version. Reordering categories will always return a new Categorical object.\n",
      "  c.reorder_categories(natsorted(c.categories), inplace=True)\n",
      "... storing 'perturbation_type' as categorical\n",
      "/home/icb/yuge.ji/miniconda3/envs/py37/lib/python3.7/site-packages/anndata/_core/anndata.py:1220: FutureWarning: The `inplace` parameter in pandas.Categorical.reorder_categories is deprecated and will be removed in a future version. Reordering categories will always return a new Categorical object.\n",
      "  c.reorder_categories(natsorted(c.categories), inplace=True)\n",
      "... storing 'perturbation_unit' as categorical\n"
     ]
    }
   ],
   "source": [
    "sc.write(f'{author_year}.h5ad', adata, compression='gzip')\n",
    "adata"
   ]
  },
  {
   "cell_type": "markdown",
   "id": "afe8077b",
   "metadata": {},
   "source": [
    "View."
   ]
  },
  {
   "cell_type": "code",
   "execution_count": null,
   "id": "618de1da",
   "metadata": {},
   "outputs": [],
   "source": [
    "plot_cols = [c for c in adata.obs.columns if len(adata.obs[c].unique()) < 30 or not hasattr(adata.obs[c], 'cat')]\n",
    "for c in plot_cols:\n",
    "    if adata.obs[c].dtype == 'bool':\n",
    "        adata.obs[c] = adata.obs[c].astype('category')\n",
    "sc.pl.umap(adata, color=plot_cols)"
   ]
  }
 ],
 "metadata": {
  "kernelspec": {
   "display_name": "Python 3 (ipykernel)",
   "language": "python",
   "name": "python3"
  },
  "language_info": {
   "codemirror_mode": {
    "name": "ipython",
    "version": 3
   },
   "file_extension": ".py",
   "mimetype": "text/x-python",
   "name": "python",
   "nbconvert_exporter": "python",
   "pygments_lexer": "ipython3",
   "version": "3.7.0"
  }
 },
 "nbformat": 4,
 "nbformat_minor": 5
}
