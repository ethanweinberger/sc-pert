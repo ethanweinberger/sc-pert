{
 "cells": [
  {
   "cell_type": "markdown",
   "id": "76588992",
   "metadata": {},
   "source": [
    "Curation by Oksana Bilous.\n",
    "\n",
    "Accesion: https://figshare.com/s/139f64b495dea9d88c70"
   ]
  },
  {
   "cell_type": "code",
   "execution_count": 1,
   "id": "6a4ed240",
   "metadata": {},
   "outputs": [
    {
     "name": "stdout",
     "output_type": "stream",
     "text": [
      "--2022-03-30 13:30:55--  https://figshare.com/ndownloader/articles/10298696?private_link=139f64b495dea9d88c70\n",
      "Resolving figshare.com (figshare.com)... 52.30.189.251, 52.48.213.168, 2a05:d018:1f4:d000:9767:1911:7029:1844, ...\n",
      "Connecting to figshare.com (figshare.com)|52.30.189.251|:443... connected.\n",
      "HTTP request sent, awaiting response... 200 OK\n",
      "Length: 2257978361 (2.1G) [application/zip]\n",
      "Saving to: ‘mcfarland2020/mixseq.zip’\n",
      "\n",
      "mcfarland2020/mixse 100%[===================>]   2.10G  23.3MB/s    in 43s     \n",
      "\n",
      "2022-03-30 13:31:38 (50.4 MB/s) - ‘mcfarland2020/mixseq.zip’ saved [2257978361/2257978361]\n",
      "\n",
      "Archive:  mcfarland2020/mixseq.zip\n",
      " extracting: mcfarland2020/README.txt  \n",
      " extracting: mcfarland2020/Supplementary Tables.xlsx  \n",
      " extracting: mcfarland2020/Trametinib_6hr_expt1.zip  \n",
      " extracting: mcfarland2020/Trametinib_24hr_expt1.zip  \n",
      " extracting: mcfarland2020/Bortezomib_6hr_expt1.zip  \n",
      " extracting: mcfarland2020/Bortezomib_24hr_expt1.zip  \n",
      " extracting: mcfarland2020/Idasanutlin_6hr_expt1.zip  \n",
      " extracting: mcfarland2020/Idasanutlin_24hr_expt1.zip  \n",
      " extracting: mcfarland2020/DMSO_24hr_expt1.zip  \n",
      " extracting: mcfarland2020/DMSO_6hr_expt1.zip  \n",
      " extracting: mcfarland2020/Untreated_6hr_expt1.zip  \n",
      " extracting: mcfarland2020/Dabrafenib_24hr_expt3.zip  \n",
      " extracting: mcfarland2020/Navitoclax_24hr_expt3.zip  \n",
      " extracting: mcfarland2020/Trametinib_24hr_expt3.zip  \n",
      " extracting: mcfarland2020/BRD3379_24hr_expt3.zip  \n",
      " extracting: mcfarland2020/BRD3379_6hr_expt3.zip  \n",
      " extracting: mcfarland2020/DMSO_24hr_expt3.zip  \n",
      " extracting: mcfarland2020/DMSO_6hr_expt3.zip  \n",
      " extracting: mcfarland2020/sgGPX4_1_expt2.zip  \n",
      " extracting: mcfarland2020/sgGPX4_2_expt2.zip  \n",
      " extracting: mcfarland2020/sgOR2J2_expt2.zip  \n",
      " extracting: mcfarland2020/sgLACZ_expt2.zip  \n",
      " extracting: mcfarland2020/trametinib_tc_expt5.zip  \n",
      " extracting: mcfarland2020/Afatinib_expt10.zip  \n",
      " extracting: mcfarland2020/AZD5591_expt10.zip  \n",
      " extracting: mcfarland2020/DMSO_expt10.zip  \n",
      " extracting: mcfarland2020/Everolimus_expt10.zip  \n",
      " extracting: mcfarland2020/Gemcitabine_expt10.zip  \n",
      " extracting: mcfarland2020/JQ1_expt10.zip  \n",
      " extracting: mcfarland2020/Prexasertib_expt10.zip  \n",
      " extracting: mcfarland2020/Taselisib_expt10.zip  \n",
      " extracting: mcfarland2020/Trametinib_expt10.zip  \n",
      " extracting: mcfarland2020/all_CL_features.rds  \n"
     ]
    }
   ],
   "source": [
    "!mkdir mcfarland2020\n",
    "!wget https://figshare.com/ndownloader/articles/10298696?private_link=139f64b495dea9d88c70 -O mcfarland2020/mixseq.zip\n",
    "!unzip mcfarland2020/mixseq.zip -d mcfarland2020"
   ]
  },
  {
   "cell_type": "code",
   "execution_count": 2,
   "id": "d2d393f6",
   "metadata": {},
   "outputs": [],
   "source": [
    "raw_data_path = 'mcfarland2020'"
   ]
  },
  {
   "cell_type": "markdown",
   "id": "67a332a4",
   "metadata": {},
   "source": [
    "Process files."
   ]
  },
  {
   "cell_type": "code",
   "execution_count": 3,
   "id": "f09dc5d2",
   "metadata": {},
   "outputs": [],
   "source": [
    "import pandas as pd\n",
    "import numpy as np\n",
    "import scanpy as sc\n",
    "from zipfile import ZipFile \n",
    "import os\n",
    "import anndata as ad"
   ]
  },
  {
   "cell_type": "code",
   "execution_count": 4,
   "id": "a518efae",
   "metadata": {},
   "outputs": [
    {
     "name": "stderr",
     "output_type": "stream",
     "text": [
      "2022-03-30 13:32:08.111777: W tensorflow/stream_executor/platform/default/dso_loader.cc:64] Could not load dynamic library 'libcudart.so.11.0'; dlerror: libcudart.so.11.0: cannot open shared object file: No such file or directory\n",
      "2022-03-30 13:32:08.111812: I tensorflow/stream_executor/cuda/cudart_stub.cc:29] Ignore above cudart dlerror if you do not have a GPU set up on your machine.\n"
     ]
    },
    {
     "name": "stdout",
     "output_type": "stream",
     "text": [
      "scanpy==1.8.2 anndata==0.7.6 umap==0.5.2 numpy==1.20.3 scipy==1.5.3 pandas==1.3.4 scikit-learn==1.0.2 statsmodels==0.11.1 python-igraph==0.8.3 leidenalg==0.8.3 pynndescent==0.5.5\n"
     ]
    }
   ],
   "source": [
    "sc.logging.print_header()"
   ]
  },
  {
   "cell_type": "code",
   "execution_count": 5,
   "id": "efb34103",
   "metadata": {},
   "outputs": [],
   "source": [
    "class MIX_seq_data_loader:\n",
    "    def __init__(self, raw_data_path, expt_no):\n",
    "        self.raw_data_path = raw_data_path\n",
    "        self.expt_no = expt_no\n",
    "#         self.scale = scale\n",
    "#         self.drugs_SMILES_representation = {\n",
    "#             'Idasanutlin': 'O=C(O)C1=CC(OC)=C(NC([C@H]2[C@H](C3=C(F)C(Cl)=CC=C3)[C@](C4=CC=C(Cl)C=C4F)(C#N)[C@H](CC(C)(C)C)N2)=O)C=C1',\n",
    "#             'Bortezomib': 'CC(C)C[C@H](NC(=O)[C@H](CC1=CC=CC=C1)NC(=O)C1=CN=CC=N1)B(O)O',\n",
    "#             'Navitoclax': 'CC1(CCC(=C(C1)CN2CCN(CC2)C3=CC=C(C=C3)C(=O)NS(=O)(=O)C4=CC(=C(C=C4)NC(CCN5CCOCC5)CSC6=CC=CC=C6)S(=O)(=O)C(F)(F)F)C7=CC=C(C=C7)Cl)C',\n",
    "#             'Dabrafenib': 'CC(C)(C)C1=NC(=C(S1)C2=NC(=NC=C2)N)C3=C(C(=CC=C3)NS(=O)(=O)C4=C(C=CC=C4F)F)F',\n",
    "#             'Afatinib': 'CN(C)CC=CC(=O)NC1=C(C=C2C(=C1)C(=NC=N2)NC3=CC(=C(C=C3)F)Cl)OC4CCOC4',\n",
    "#             'Prexasertib': 'COC1=C(C(=CC=C1)OCCCN)C2=CC(=NN2)NC3=NC=C(N=C3)C#N.Cl.Cl',\n",
    "#             'Taselisib' : 'CC1=NN(C(=N1)C2=CN3CCOC4=C(C3=N2)C=CC(=C4)C5=CN(N=C5)C(C)(C)C(=O)N)C(C)C',\n",
    "#             'Gemcitabine': 'C1=CN(C(=O)N=C1N)C2C(C(C(O2)CO)O)(F)F',\n",
    "#             'Trametinib': 'CC1=C2C(=C(N(C1=O)C)NC3=C(C=C(C=C3)I)F)C(=O)N(C(=O)N2C4=CC=CC(=C4)NC(=O)C)C5CC5',\n",
    "#             'Everolimus': '[H][C@@]1(C[C@@H](C)[C@]2([H])CC(=O)[C@H](C)\\C=C(C)\\[C@@H](O)[C@@H](OC)C(=O)[C@H](C)C[C@H](C)\\C=C\\C=C\\C=C(C)\\[C@H](C[C@]3([H])CC[C@@H](C)[C@@](O)(O3)C(=O)C(=O)N3CCCC[C@@]3([H])C(=O)O2)OC)CC[C@@H](OCCO)[C@@H](C1)OC',\n",
    "#             'AZD5591': 'CN1N=C2CSCC3=NN(C)C(CSC4=CC5=C(C=CC=C5)C(OCCCC5=C(N(C)C6=C5C=CC(Cl)=C6C2=C1C)C(O)=O)=C4)=C3',\n",
    "#             'JQ1': 'ClC1=CC=C(C(C2=C(N3C4=NN=C3C)SC(C)=C2C)=N[C@H]4CC(O)=O)C=C1',\n",
    "#             'BRD3379': 'CC(=O)NC1=CC=C(C=C1)C(=O)NC2=C(C=C(C=C2)F)N',\n",
    "#             'DMSO': 'CS(=O)C',\n",
    "#         }\n",
    "        self.adata = self.load_adata_obj()\n",
    "#         self.adata_preprocessing()\n",
    "        self.adata_add_additional_information()\n",
    "        \n",
    "#         self.perturbations = list(self.adata.obs['condition'].unique())\n",
    "#         self.timetpoints = list(self.adata.obs['timepoint'].unique())\n",
    "#         self.tissue_types = list(self.adata.obs['tissue_type'].unique())\n",
    "#         self.drugs_without_SMILES_encoding = list(self.adata.obs[(self.adata.obs['drug_SMILES']=='') & \n",
    "#                        (self.adata.obs['condition']!='Untreated')]['condition'].unique())\n",
    "#         if print_summary:\n",
    "#             self.print_summary()\n",
    "    \n",
    "#     def print_summary(self):\n",
    "#         print(\"Experiment\", self.expt_no, '\\n')\n",
    "#         print(\"Perturbations:\", self.perturbations, '\\n')\n",
    "#         print(\"Timetpoints:\", self.timetpoints, '\\n')\n",
    "#         print(\"Tissue types:\", self.tissue_types, '\\n')\n",
    "#         print(\"Number of cells:\", len(self.adata.obs), '\\n')\n",
    "#         print(\"Drugs for which no SMILES encoding was found:\", self.drugs_without_SMILES_encoding, '\\n')\n",
    "        \n",
    "    def load_adata_obj_from_single_file(self, filename):\n",
    "        zf = ZipFile(self.raw_data_path + '/' + filename)\n",
    "        zf.extractall(path=self.raw_data_path) \n",
    "\n",
    "        df_classifications = pd.read_csv(\n",
    "            zf.open(zf.namelist()[0] + 'classifications.csv'),\n",
    "            sep=\",\",\n",
    "            index_col = 'barcode'\n",
    "        )\n",
    "\n",
    "        adata = sc.read_10x_mtx(self.raw_data_path + '/' + zf.namelist()[0], var_names='gene_symbols')# cache=True)\n",
    "#         adata.var_names_make_unique()\n",
    "        adata.obs = df_classifications\n",
    "        \n",
    "        if 'hash_tag' in adata.obs.columns:\n",
    "            adata = adata[~adata.obs[\"hash_tag\"].isin(['multiplet', 'unknown']), :]\n",
    "            adata.obs['condition'] = adata.obs.apply(lambda x: x['hash_tag'][0:x['hash_tag'].find('_')], axis = 1)\n",
    "            adata.obs['condition'] = adata.obs.apply(lambda x: 'Trametinib' if x['condition'] == 'Tram' else x['condition'], axis = 1)\n",
    "            adata.obs['timepoint'] = adata.obs.apply(lambda x: x['hash_tag'][x['hash_tag'].find('_')+1:x['hash_tag'].find('hr')], axis = 1)\n",
    "        else:\n",
    "            adata.obs['condition'] = filename[0:filename.find('_')]\n",
    "            if 'hr' in filename:\n",
    "                adata.obs['timepoint'] = filename[filename.find('_')+1:filename.find('hr')]\n",
    "            else:\n",
    "                adata.obs['timepoint'] = ''\n",
    "\n",
    "        adata.obs['control'] = adata.obs.apply(lambda x: 'ctrl' if x['condition'] in ['Untreated', 'DMSO']\n",
    "                                      else 'drug', axis=1)\n",
    "        adata.obs['cell_line'] = adata.obs.apply(lambda x: x['singlet_ID'][0:x['singlet_ID'].find('_')], axis = 1)\n",
    "        adata.obs['tissue_type'] = adata.obs.apply(lambda x: x['singlet_ID'][x['singlet_ID'].find('_')+1:], axis = 1)\n",
    "        \n",
    "        return(adata)\n",
    "    \n",
    "    def load_adata_obj(self):\n",
    "        files_to_load = []\n",
    "        for filename in os.listdir(self.raw_data_path):\n",
    "            if ('.zip' in filename) and ('expt'+str(self.expt_no)+'.' in filename):\n",
    "                files_to_load.append(filename)\n",
    "\n",
    "        adata = ad.AnnData()\n",
    "        for file in files_to_load:\n",
    "            adata_temp = self.load_adata_obj_from_single_file(file)\n",
    "            adata_temp.obs['experiment'] = self.expt_no\n",
    "            if len(adata) == 0:\n",
    "                adata = adata_temp\n",
    "            else:\n",
    "                adata = adata.concatenate(adata_temp)\n",
    "        if 'batch' in adata.obs.columns:\n",
    "            adata.obs = adata.obs.drop(columns=['batch'])\n",
    "            \n",
    "        return(adata)\n",
    "    \n",
    "#     def adata_preprocessing(self):\n",
    "#         # Filtering out the low-quality cells before doing the analysis\n",
    "#         self.adata = self.adata[self.adata.obs[\"cell_quality\"] == \"normal\", :] \n",
    "\n",
    "#         # Normalization\n",
    "#         sc.pp.normalize_total(self.adata, target_sum=1e4)\n",
    "#         sc.pp.log1p(self.adata)\n",
    "\n",
    "#         # # Identifying top 5000 highly variable genes\n",
    "#         # sc.pp.highly_variable_genes(self.adata, n_top_genes = 5000)\n",
    "\n",
    "#         # Saving the raw data object\n",
    "#         self.adata.raw = self.adata\n",
    "        \n",
    "#         # Scaling\n",
    "#         if self.scale:\n",
    "#             sc.pp.scale(self.adata, max_value=10)\n",
    "\n",
    "#         n_comps = len(self.adata.obs['singlet_ID'].unique()) * 2 \n",
    "#         # PCA\n",
    "#         sc.tl.pca(self.adata, svd_solver='arpack', n_comps = n_comps)\n",
    "\n",
    "#         # UMAP embedding\n",
    "#         sc.pp.neighbors(self.adata, n_neighbors=10, n_pcs=n_comps)\n",
    "#         sc.tl.umap(self.adata)\n",
    "        \n",
    "    def adata_add_additional_information(self):\n",
    "        mutant_cls = ['LNCAPCLONEFGC_PROSTATE','DKMG_CENTRAL_NERVOUS_SYSTEM', 'NCIH226_LUNG', 'RCC10RGB_KIDNEY', 'SNU1079_BILIARY_TRACT', 'CCFSTTG1_CENTRAL_NERVOUS_SYSTEM','COV434_OVARY']\n",
    "        self.adata.obs['TP53_status'] = ['TP53_MUT' if x in mutant_cls else 'TP53_WT' for x in self.adata.obs.singlet_ID.values]\n",
    "        if self.adata.obs['timepoint'][1] != '':\n",
    "            self.adata.obs['condition_time'] = self.adata.obs.apply(lambda x: x['condition'] + '_' + x['timepoint'] + 'hr', axis=1)\n",
    "            \n",
    "        # Cell Cycle Analysis\n",
    "        # Loading additional file with lists of s genes and g2m genes\n",
    "#         cell_phases_df = pd.read_excel(self.raw_data_path+'/Cell_phases.xlsx', sheet_name = 'Cell_phases')\n",
    "#         s_genes = [x.replace(' ', '') for x in list(cell_phases_df[pd.notna(cell_phases_df.iloc[:,0])].iloc[:,0])]\n",
    "#         g2m_genes = [x.replace(' ', '') for x in list(cell_phases_df[pd.notna(cell_phases_df.iloc[:,1])].iloc[:,1])]\n",
    "\n",
    "        # Defining the cell cycles\n",
    "#         sc.tl.score_genes_cell_cycle(self.adata, s_genes = s_genes, g2m_genes = g2m_genes)\n",
    "\n",
    "#         self.adata.obs['phase'] = self.adata.obs.apply(lambda x: 'G2/M' if x['phase'] == 'G2M' else ('G0/G1' if x['phase']=='G1' else x['phase']\n",
    "#         ), axis = 1)\n",
    "        \n",
    "#         self.adata.obs['drug_SMILES'] = self.adata.obs.apply(lambda x: self.drugs_SMILES_representation[x['condition']] \n",
    "#                                            if x['condition'] in self.drugs_SMILES_representation.keys() else '', axis=1)"
   ]
  },
  {
   "cell_type": "code",
   "execution_count": 7,
   "id": "ada87798",
   "metadata": {},
   "outputs": [
    {
     "data": {
      "text/plain": [
       "[AnnData object with n_obs × n_vars = 24500 × 32738\n",
       "     obs: 'singlet_ID', 'num_SNPs', 'singlet_dev', 'singlet_dev_z', 'singlet_margin', 'singlet_z_margin', 'doublet_z_margin', 'tot_reads', 'doublet_dev_imp', 'doublet_CL1', 'doublet_CL2', 'percent.mito', 'cell_det_rate', 'cell_quality', 'doublet_GMM_prob', 'DepMap_ID', 'condition', 'timepoint', 'control', 'cell_line', 'tissue_type', 'experiment', 'TP53_status', 'condition_time'\n",
       "     var: 'gene_ids',\n",
       " AnnData object with n_obs × n_vars = 28165 × 32738\n",
       "     obs: 'singlet_ID', 'num_SNPs', 'singlet_dev', 'singlet_dev_z', 'singlet_margin', 'singlet_z_margin', 'doublet_z_margin', 'tot_reads', 'doublet_dev_imp', 'doublet_CL1', 'doublet_CL2', 'percent.mito', 'cell_det_rate', 'cell_quality', 'doublet_GMM_prob', 'DepMap_ID', 'condition', 'timepoint', 'control', 'cell_line', 'tissue_type', 'experiment', 'TP53_status'\n",
       "     var: 'gene_ids',\n",
       " AnnData object with n_obs × n_vars = 72326 × 32738\n",
       "     obs: 'singlet_ID', 'num_SNPs', 'singlet_dev', 'singlet_dev_z', 'singlet_margin', 'singlet_z_margin', 'doublet_z_margin', 'tot_reads', 'doublet_dev_imp', 'doublet_CL1', 'doublet_CL2', 'percent.mito', 'cell_det_rate', 'cell_quality', 'doublet_GMM_prob', 'DepMap_ID', 'condition', 'timepoint', 'control', 'cell_line', 'tissue_type', 'experiment', 'TP53_status', 'condition_time'\n",
       "     var: 'gene_ids',\n",
       " AnnData object with n_obs × n_vars = 17553 × 32738\n",
       "     obs: 'singlet_ID', 'num_SNPs', 'singlet_dev', 'singlet_dev_z', 'singlet_margin', 'singlet_z_margin', 'doublet_z_margin', 'tot_reads', 'doublet_dev_imp', 'doublet_CL1', 'doublet_CL2', 'percent.mito', 'cell_det_rate', 'cell_quality', 'doublet_GMM_prob', 'hash_assignment', 'hash_tag', 'channel', 'DepMap_ID', 'condition', 'timepoint', 'control', 'cell_line', 'tissue_type', 'experiment', 'TP53_status', 'condition_time'\n",
       "     var: 'gene_ids',\n",
       " AnnData object with n_obs × n_vars = 37856 × 32738\n",
       "     obs: 'singlet_ID', 'num_SNPs', 'singlet_dev', 'singlet_dev_z', 'singlet_margin', 'singlet_z_margin', 'doublet_z_margin', 'tot_reads', 'doublet_dev_imp', 'doublet_CL1', 'doublet_CL2', 'percent.mito', 'cell_det_rate', 'cell_quality', 'doublet_GMM_prob', 'channel', 'DepMap_ID', 'condition', 'timepoint', 'control', 'cell_line', 'tissue_type', 'experiment', 'TP53_status'\n",
       "     var: 'gene_ids']"
      ]
     },
     "execution_count": 7,
     "metadata": {},
     "output_type": "execute_result"
    }
   ],
   "source": [
    "%%time\n",
    "adatas = []\n",
    "for expt in [1,2,3,5,10]:\n",
    "    print(expt)\n",
    "    adatas.append(MIX_seq_data_loader(\n",
    "        raw_data_path=raw_data_path, \n",
    "        expt_no=expt\n",
    "    ).adata)\n",
    "adatas"
   ]
  },
  {
   "cell_type": "code",
   "execution_count": 8,
   "id": "841bdcf1",
   "metadata": {},
   "outputs": [
    {
     "data": {
      "text/plain": [
       "AnnData object with n_obs × n_vars = 180400 × 32738\n",
       "    obs: 'singlet_ID', 'num_SNPs', 'singlet_dev', 'singlet_dev_z', 'singlet_margin', 'singlet_z_margin', 'doublet_z_margin', 'tot_reads', 'doublet_dev_imp', 'doublet_CL1', 'doublet_CL2', 'percent.mito', 'cell_det_rate', 'cell_quality', 'doublet_GMM_prob', 'DepMap_ID', 'condition', 'timepoint', 'control', 'cell_line', 'tissue_type', 'experiment', 'TP53_status'\n",
       "    var: 'gene_ids'"
      ]
     },
     "execution_count": 8,
     "metadata": {},
     "output_type": "execute_result"
    }
   ],
   "source": [
    "adata = ad.concat(adatas, keys=[n for n in [1,2,3,5,10]], label='experiment', index_unique='--', merge='same')\n",
    "adata"
   ]
  },
  {
   "cell_type": "code",
   "execution_count": 9,
   "id": "88eeba27",
   "metadata": {},
   "outputs": [],
   "source": [
    "!rm -r mcfarland2020"
   ]
  },
  {
   "cell_type": "code",
   "execution_count": 10,
   "id": "15d2b3d5",
   "metadata": {},
   "outputs": [
    {
     "name": "stderr",
     "output_type": "stream",
     "text": [
      "/home/icb/yuge.ji/miniconda3/envs/py37/lib/python3.7/site-packages/anndata/_core/anndata.py:1220: FutureWarning: The `inplace` parameter in pandas.Categorical.reorder_categories is deprecated and will be removed in a future version. Reordering categories will always return a new Categorical object.\n",
      "  c.reorder_categories(natsorted(c.categories), inplace=True)\n",
      "... storing 'singlet_ID' as categorical\n",
      "/home/icb/yuge.ji/miniconda3/envs/py37/lib/python3.7/site-packages/anndata/_core/anndata.py:1220: FutureWarning: The `inplace` parameter in pandas.Categorical.reorder_categories is deprecated and will be removed in a future version. Reordering categories will always return a new Categorical object.\n",
      "  c.reorder_categories(natsorted(c.categories), inplace=True)\n",
      "... storing 'doublet_CL1' as categorical\n",
      "/home/icb/yuge.ji/miniconda3/envs/py37/lib/python3.7/site-packages/anndata/_core/anndata.py:1220: FutureWarning: The `inplace` parameter in pandas.Categorical.reorder_categories is deprecated and will be removed in a future version. Reordering categories will always return a new Categorical object.\n",
      "  c.reorder_categories(natsorted(c.categories), inplace=True)\n",
      "... storing 'doublet_CL2' as categorical\n",
      "/home/icb/yuge.ji/miniconda3/envs/py37/lib/python3.7/site-packages/anndata/_core/anndata.py:1220: FutureWarning: The `inplace` parameter in pandas.Categorical.reorder_categories is deprecated and will be removed in a future version. Reordering categories will always return a new Categorical object.\n",
      "  c.reorder_categories(natsorted(c.categories), inplace=True)\n",
      "... storing 'cell_quality' as categorical\n",
      "/home/icb/yuge.ji/miniconda3/envs/py37/lib/python3.7/site-packages/anndata/_core/anndata.py:1220: FutureWarning: The `inplace` parameter in pandas.Categorical.reorder_categories is deprecated and will be removed in a future version. Reordering categories will always return a new Categorical object.\n",
      "  c.reorder_categories(natsorted(c.categories), inplace=True)\n",
      "... storing 'DepMap_ID' as categorical\n",
      "/home/icb/yuge.ji/miniconda3/envs/py37/lib/python3.7/site-packages/anndata/_core/anndata.py:1220: FutureWarning: The `inplace` parameter in pandas.Categorical.reorder_categories is deprecated and will be removed in a future version. Reordering categories will always return a new Categorical object.\n",
      "  c.reorder_categories(natsorted(c.categories), inplace=True)\n",
      "... storing 'condition' as categorical\n",
      "/home/icb/yuge.ji/miniconda3/envs/py37/lib/python3.7/site-packages/anndata/_core/anndata.py:1220: FutureWarning: The `inplace` parameter in pandas.Categorical.reorder_categories is deprecated and will be removed in a future version. Reordering categories will always return a new Categorical object.\n",
      "  c.reorder_categories(natsorted(c.categories), inplace=True)\n",
      "... storing 'timepoint' as categorical\n",
      "/home/icb/yuge.ji/miniconda3/envs/py37/lib/python3.7/site-packages/anndata/_core/anndata.py:1220: FutureWarning: The `inplace` parameter in pandas.Categorical.reorder_categories is deprecated and will be removed in a future version. Reordering categories will always return a new Categorical object.\n",
      "  c.reorder_categories(natsorted(c.categories), inplace=True)\n",
      "... storing 'control' as categorical\n",
      "/home/icb/yuge.ji/miniconda3/envs/py37/lib/python3.7/site-packages/anndata/_core/anndata.py:1220: FutureWarning: The `inplace` parameter in pandas.Categorical.reorder_categories is deprecated and will be removed in a future version. Reordering categories will always return a new Categorical object.\n",
      "  c.reorder_categories(natsorted(c.categories), inplace=True)\n",
      "... storing 'cell_line' as categorical\n",
      "/home/icb/yuge.ji/miniconda3/envs/py37/lib/python3.7/site-packages/anndata/_core/anndata.py:1220: FutureWarning: The `inplace` parameter in pandas.Categorical.reorder_categories is deprecated and will be removed in a future version. Reordering categories will always return a new Categorical object.\n",
      "  c.reorder_categories(natsorted(c.categories), inplace=True)\n",
      "... storing 'tissue_type' as categorical\n",
      "/home/icb/yuge.ji/miniconda3/envs/py37/lib/python3.7/site-packages/anndata/_core/anndata.py:1220: FutureWarning: The `inplace` parameter in pandas.Categorical.reorder_categories is deprecated and will be removed in a future version. Reordering categories will always return a new Categorical object.\n",
      "  c.reorder_categories(natsorted(c.categories), inplace=True)\n",
      "... storing 'TP53_status' as categorical\n"
     ]
    }
   ],
   "source": [
    "adata.write(f'Mcfarland_2020_raw.h5ad')"
   ]
  }
 ],
 "metadata": {
  "kernelspec": {
   "display_name": "Python [conda env:py37] *",
   "language": "python",
   "name": "conda-env-py37-py"
  },
  "language_info": {
   "codemirror_mode": {
    "name": "ipython",
    "version": 3
   },
   "file_extension": ".py",
   "mimetype": "text/x-python",
   "name": "python",
   "nbconvert_exporter": "python",
   "pygments_lexer": "ipython3",
   "version": "3.7.0"
  }
 },
 "nbformat": 4,
 "nbformat_minor": 5
}
