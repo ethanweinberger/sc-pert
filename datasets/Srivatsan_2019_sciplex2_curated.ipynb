{
 "cells": [
  {
   "cell_type": "markdown",
   "id": "3d72194e-5fc0-4d08-a508-04060404b564",
   "metadata": {},
   "source": [
    "Accession: https://www.ncbi.nlm.nih.gov/geo/query/acc.cgi?acc=GSE139944"
   ]
  },
  {
   "cell_type": "code",
   "execution_count": 1,
   "id": "23e1aa01-2790-497c-bd60-2605eef9304d",
   "metadata": {},
   "outputs": [],
   "source": [
    "import gzip\n",
    "import os\n",
    "\n",
    "import numpy as np\n",
    "import pandas as pd\n",
    "from anndata import AnnData\n",
    "\n",
    "from utils import download_binary_file"
   ]
  },
  {
   "cell_type": "code",
   "execution_count": 2,
   "id": "5de02679-24c4-4fc0-bc6d-a2715075819a",
   "metadata": {},
   "outputs": [],
   "source": [
    "def download_srivatsan_2019_sciplex2(output_path: str) -> None:\n",
    "    \"\"\"\n",
    "    Download Srivatsan et al. 2019 sciplex-2 data from the hosting URLs.\n",
    "\n",
    "    Args:\n",
    "    ----\n",
    "        output_path: Output path to store the downloaded and unzipped\n",
    "        directories.\n",
    "\n",
    "    Returns\n",
    "    -------\n",
    "        None. File directories are downloaded to output_path.\n",
    "    \"\"\"\n",
    "\n",
    "    count_matrix_url = (\n",
    "        \"https://www.ncbi.nlm.nih.gov/geo/download/?acc=GSM4150377&format=file&file=\"\n",
    "        \"GSM4150377_sciPlex2_A549_Transcription_Modulators_UMI.count.matrix.gz\"\n",
    "    )\n",
    "    count_matrix_filename = os.path.join(output_path, count_matrix_url.split(\"=\")[-1])\n",
    "    download_binary_file(count_matrix_url, count_matrix_filename)\n",
    "\n",
    "    cell_metadata_url = (\n",
    "        \"https://www.ncbi.nlm.nih.gov/geo/download/?acc=GSM4150377&format=file\"\n",
    "        \"&file=GSM4150377_sciPlex2_pData.txt.gz\"\n",
    "    )\n",
    "    cell_metadata_filename = os.path.join(output_path, cell_metadata_url.split(\"=\")[-1])\n",
    "    download_binary_file(cell_metadata_url, cell_metadata_filename)\n",
    "\n",
    "    gene_metadata_url = (\n",
    "        \"https://www.ncbi.nlm.nih.gov/geo/download/?acc=GSM4150377&format=file&file=\"\n",
    "        \"GSM4150377_sciPlex2_A549_Transcription_Modulators_gene.annotations.txt.gz\"\n",
    "    )\n",
    "    cell_metadata_filename = os.path.join(output_path, gene_metadata_url.split(\"=\")[-1])\n",
    "    download_binary_file(gene_metadata_url, cell_metadata_filename)\n",
    "\n",
    "\n",
    "def read_srivatsan_2019_sciplex2(file_directory: str) -> pd.DataFrame:\n",
    "    \"\"\"\n",
    "    Read the sciplex-2 expression data for Srivatsan et al. 2019 in the given directory.\n",
    "\n",
    "    Args:\n",
    "    ----\n",
    "        file_directory: Directory containing Srivatsan et al. 2019 data.\n",
    "\n",
    "    Returns\n",
    "    -------\n",
    "        A data frame containing single-cell gene expression counts. The count\n",
    "        matrix is stored in triplet format. I.e., each row of the data frame\n",
    "        has the format (row, column, count) stored in columns (i, j, x) respectively.\n",
    "    \"\"\"\n",
    "\n",
    "    with gzip.open(\n",
    "        os.path.join(\n",
    "            file_directory,\n",
    "            \"GSM4150377_sciPlex2_A549_Transcription_Modulators_UMI.count.matrix.gz\",\n",
    "        ),\n",
    "        \"rb\",\n",
    "    ) as f:\n",
    "        df = pd.read_csv(f, sep=\"\\t\", header=None, names=[\"i\", \"j\", \"x\"])\n",
    "\n",
    "    return df"
   ]
  },
  {
   "cell_type": "code",
   "execution_count": 3,
   "id": "29eb3060-aaa5-480b-8b44-a518d997c1ed",
   "metadata": {},
   "outputs": [
    {
     "name": "stdout",
     "output_type": "stream",
     "text": [
      "File ./srivatsan_2019_sciplex2/GSM4150377_sciPlex2_A549_Transcription_Modulators_UMI.count.matrix.gz already exists. No files downloaded to overwrite the existing file.\n",
      "File ./srivatsan_2019_sciplex2/GSM4150377_sciPlex2_pData.txt.gz already exists. No files downloaded to overwrite the existing file.\n",
      "File ./srivatsan_2019_sciplex2/GSM4150377_sciPlex2_A549_Transcription_Modulators_gene.annotations.txt.gz already exists. No files downloaded to overwrite the existing file.\n"
     ]
    },
    {
     "name": "stderr",
     "output_type": "stream",
     "text": [
      "/tmp/ipykernel_25630/3473540403.py:41: FutureWarning: X.dtype being converted to np.float32 from float64. In the next version of anndata (0.9) conversion will not be automatic. Pass dtype explicitly to avoid this warning. Pass `AnnData(X, dtype=X.dtype, ...)` to get the future behavour.\n",
      "  adata = AnnData(\n",
      "/tmp/ipykernel_25630/3473540403.py:57: ImplicitModificationWarning: Trying to modify attribute `.obs` of view, initializing view as actual.\n",
      "  adata.obs[\"dose\"] = [\n",
      "/tmp/ipykernel_25630/3473540403.py:63: SettingWithCopyWarning: \n",
      "A value is trying to be set on a copy of a slice from a DataFrame\n",
      "\n",
      "See the caveats in the documentation: https://pandas.pydata.org/pandas-docs/stable/user_guide/indexing.html#returning-a-view-versus-a-copy\n",
      "  adata.obs[\"drug\"][adata.obs[\"dose\"] == 0.0] = \"Vehicle\"\n"
     ]
    }
   ],
   "source": [
    "download_path = \"./srivatsan_2019_sciplex2\"\n",
    "\n",
    "os.makedirs(download_path, exist_ok=True)\n",
    "download_srivatsan_2019_sciplex2(download_path)\n",
    "df = read_srivatsan_2019_sciplex2(download_path)\n",
    "\n",
    "# The Srivatsan count data is in a sparse triplet format represented\n",
    "# by three columns 'i', 'j', and 'x'. 'i' refers to a row number, 'j' refers to\n",
    "# a column number, and 'x' refers to a count value.\n",
    "counts = df[\"x\"]\n",
    "rows = (\n",
    "    df[\"i\"] - 1\n",
    ")  # Indices were originally 1-base-indexed --> switch to 0-base-indexing\n",
    "cols = df[\"j\"] - 1\n",
    "\n",
    "# Convert the triplets into a numpy array\n",
    "count_matrix = np.zeros([max(rows) + 1, max(cols) + 1])\n",
    "count_matrix[rows, cols] = counts\n",
    "\n",
    "# Switch matrix from gene rows and cell columns to cell rows and gene columns\n",
    "count_matrix = count_matrix.T\n",
    "\n",
    "cell_metadata = pd.read_csv(\n",
    "    os.path.join(\n",
    "        download_path,\n",
    "        \"GSM4150377_sciPlex2_pData.txt.gz\",\n",
    "    ),\n",
    "    sep=\" \",\n",
    ")\n",
    "\n",
    "gene_metadata = pd.read_csv(\n",
    "    os.path.join(\n",
    "        download_path,\n",
    "        \"GSM4150377_sciPlex2_A549_Transcription_Modulators_gene.annotations.txt.gz\",\n",
    "    ),\n",
    "    sep=\"\\t\",\n",
    "    header=None,\n",
    "    index_col=0,\n",
    ")\n",
    "\n",
    "adata = AnnData(\n",
    "    X=count_matrix, obs=cell_metadata, var=pd.DataFrame(index=gene_metadata.index)\n",
    ")\n",
    "\n",
    "# Index needs string names or else the write_h5ad call will throw an error\n",
    "adata.var.index.name = \"gene_id\"\n",
    "\n",
    "# Treatment information is contained in the `top_oligo` column\n",
    "# with the format <drug>_<dose>. There exist some NaN values\n",
    "# in the column (which will break the next few lines), so we\n",
    "# convert them to strings first.\n",
    "adata.obs[\"top_oligo\"] = [str(x) for x in adata.obs[\"top_oligo\"]]\n",
    "adata.obs[\"drug\"] = [\n",
    "    treatment.split(\"_\")[0] for treatment in adata.obs[\"top_oligo\"]\n",
    "]\n",
    "adata = adata[adata.obs[\"drug\"] != \"nan\"]\n",
    "adata.obs[\"dose\"] = [\n",
    "    treatment.split(\"_\")[1] for treatment in adata.obs[\"top_oligo\"]\n",
    "]\n",
    "adata.obs[\"dose\"] = adata.obs[\"dose\"].apply(pd.to_numeric, args=(\"coerce\",))\n",
    "\n",
    "# If a drug is listed with dosage of 0, the cell was only exposed to vehicle control\n",
    "adata.obs[\"drug\"][adata.obs[\"dose\"] == 0.0] = \"Vehicle\""
   ]
  },
  {
   "cell_type": "code",
   "execution_count": 4,
   "id": "90af4b59-8e1f-4fb6-9fc2-495a6f71227f",
   "metadata": {},
   "outputs": [
    {
     "name": "stderr",
     "output_type": "stream",
     "text": [
      "/homes/gws/ewein/miniconda3/envs/sc-pert/lib/python3.9/site-packages/anndata/_core/anndata.py:1235: ImplicitModificationWarning: Trying to modify attribute `.obs` of view, initializing view as actual.\n",
      "  df[key] = c\n",
      "/homes/gws/ewein/miniconda3/envs/sc-pert/lib/python3.9/site-packages/anndata/_core/anndata.py:1235: ImplicitModificationWarning: Trying to modify attribute `.obs` of view, initializing view as actual.\n",
      "  df[key] = c\n"
     ]
    }
   ],
   "source": [
    "adata.write_h5ad(\"Srivatsan_2019_sciplex2_raw.h5ad\")"
   ]
  }
 ],
 "metadata": {
  "kernelspec": {
   "display_name": "Python 3",
   "language": "python",
   "name": "python3"
  },
  "language_info": {
   "codemirror_mode": {
    "name": "ipython",
    "version": 3
   },
   "file_extension": ".py",
   "mimetype": "text/x-python",
   "name": "python",
   "nbconvert_exporter": "python",
   "pygments_lexer": "ipython3",
   "version": "3.9.12"
  }
 },
 "nbformat": 4,
 "nbformat_minor": 5
}
