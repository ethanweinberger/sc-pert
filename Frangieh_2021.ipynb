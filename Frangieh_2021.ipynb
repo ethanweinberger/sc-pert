{
 "cells": [
  {
   "cell_type": "code",
   "execution_count": 1,
   "id": "4c2680af",
   "metadata": {},
   "outputs": [],
   "source": [
    "import scanpy as sc"
   ]
  },
  {
   "cell_type": "code",
   "execution_count": 2,
   "id": "b8e63491",
   "metadata": {},
   "outputs": [
    {
     "data": {
      "text/plain": [
       "AnnData object with n_obs × n_vars = 218331 × 23712\n",
       "    obs: 'library_preparation_protocol', 'condition', 'MOI', 'sgRNA', 'UMI_count'\n",
       "    uns: 'protein_names'\n",
       "    obsm: 'protein_expression'"
      ]
     },
     "execution_count": 2,
     "metadata": {},
     "output_type": "execute_result"
    }
   ],
   "source": [
    "adata = sc.read('frangieh_2021.h5ad')\n",
    "adata"
   ]
  },
  {
   "cell_type": "code",
   "execution_count": 3,
   "id": "61001391",
   "metadata": {},
   "outputs": [
    {
     "data": {
      "text/html": [
       "<div>\n",
       "<style scoped>\n",
       "    .dataframe tbody tr th:only-of-type {\n",
       "        vertical-align: middle;\n",
       "    }\n",
       "\n",
       "    .dataframe tbody tr th {\n",
       "        vertical-align: top;\n",
       "    }\n",
       "\n",
       "    .dataframe thead th {\n",
       "        text-align: right;\n",
       "    }\n",
       "</style>\n",
       "<table border=\"1\" class=\"dataframe\">\n",
       "  <thead>\n",
       "    <tr style=\"text-align: right;\">\n",
       "      <th></th>\n",
       "      <th>count</th>\n",
       "      <th>unique</th>\n",
       "      <th>top</th>\n",
       "      <th>freq</th>\n",
       "    </tr>\n",
       "  </thead>\n",
       "  <tbody>\n",
       "    <tr>\n",
       "      <th>library_preparation_protocol</th>\n",
       "      <td>218331</td>\n",
       "      <td>1</td>\n",
       "      <td>10X 3' v3 sequencing</td>\n",
       "      <td>218331</td>\n",
       "    </tr>\n",
       "    <tr>\n",
       "      <th>condition</th>\n",
       "      <td>218331</td>\n",
       "      <td>3</td>\n",
       "      <td>IFNγ</td>\n",
       "      <td>87590</td>\n",
       "    </tr>\n",
       "    <tr>\n",
       "      <th>MOI</th>\n",
       "      <td>218331</td>\n",
       "      <td>20</td>\n",
       "      <td>1</td>\n",
       "      <td>126966</td>\n",
       "    </tr>\n",
       "    <tr>\n",
       "      <th>sgRNA</th>\n",
       "      <td>126966</td>\n",
       "      <td>818</td>\n",
       "      <td>IFNGR2_2</td>\n",
       "      <td>358</td>\n",
       "    </tr>\n",
       "    <tr>\n",
       "      <th>UMI_count</th>\n",
       "      <td>218331</td>\n",
       "      <td>33077</td>\n",
       "      <td>7977.0</td>\n",
       "      <td>33</td>\n",
       "    </tr>\n",
       "  </tbody>\n",
       "</table>\n",
       "</div>"
      ],
      "text/plain": [
       "                               count unique                   top    freq\n",
       "library_preparation_protocol  218331      1  10X 3' v3 sequencing  218331\n",
       "condition                     218331      3                  IFNγ   87590\n",
       "MOI                           218331     20                     1  126966\n",
       "sgRNA                         126966    818              IFNGR2_2     358\n",
       "UMI_count                     218331  33077                7977.0      33"
      ]
     },
     "execution_count": 3,
     "metadata": {},
     "output_type": "execute_result"
    }
   ],
   "source": [
    "adata.obs.describe(include='all').T"
   ]
  },
  {
   "cell_type": "code",
   "execution_count": null,
   "id": "4c11a096",
   "metadata": {},
   "outputs": [],
   "source": []
  }
 ],
 "metadata": {
  "kernelspec": {
   "display_name": "Python 3 (ipykernel)",
   "language": "python",
   "name": "python3"
  },
  "language_info": {
   "codemirror_mode": {
    "name": "ipython",
    "version": 3
   },
   "file_extension": ".py",
   "mimetype": "text/x-python",
   "name": "python",
   "nbconvert_exporter": "python",
   "pygments_lexer": "ipython3",
   "version": "3.7.0"
  }
 },
 "nbformat": 4,
 "nbformat_minor": 5
}
